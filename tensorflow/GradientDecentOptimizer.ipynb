{
 "cells": [
  {
   "cell_type": "code",
   "execution_count": 25,
   "metadata": {},
   "outputs": [],
   "source": [
    "# 경사하강법 이해를 위해 tf.train.GradientDescentOptimizer 클래스 일부 기능구현 \n",
    "# https://tensorflow.blog/%EA%B2%BD%EC%82%AC%ED%95%98%EA%B0%95%EB%B2%95-tf-gradients/\n",
    "# http://bcho.tistory.com/1139 \n"
   ]
  },
  {
   "cell_type": "code",
   "execution_count": 14,
   "metadata": {},
   "outputs": [
    {
     "name": "stdout",
     "output_type": "stream",
     "text": [
      "Using matplotlib backend: TkAgg\n",
      "Populating the interactive namespace from numpy and matplotlib\n"
     ]
    }
   ],
   "source": [
    "import tensorflow as tf\n",
    "%pylab"
   ]
  },
  {
   "cell_type": "code",
   "execution_count": 8,
   "metadata": {},
   "outputs": [],
   "source": [
    "x = tf.constant(1.0)\n",
    "b = tf.constant(2.0)\n",
    "y= 2*x+b"
   ]
  },
  {
   "cell_type": "code",
   "execution_count": 9,
   "metadata": {},
   "outputs": [],
   "source": [
    "sess = tf.Session()"
   ]
  },
  {
   "cell_type": "code",
   "execution_count": 10,
   "metadata": {},
   "outputs": [
    {
     "data": {
      "text/plain": [
       "[2.0]"
      ]
     },
     "execution_count": 10,
     "metadata": {},
     "output_type": "execute_result"
    }
   ],
   "source": [
    "sess.run(tf.gradients(y,x))"
   ]
  },
  {
   "cell_type": "code",
   "execution_count": 16,
   "metadata": {},
   "outputs": [
    {
     "data": {
      "text/plain": [
       "[<matplotlib.lines.Line2D at 0x23fe465fa20>]"
      ]
     },
     "execution_count": 16,
     "metadata": {},
     "output_type": "execute_result"
    }
   ],
   "source": [
    "# make sample\n",
    "num_points = 1000\n",
    "x_data = []\n",
    "y_data = []\n",
    "for i in range(num_points):\n",
    "    x1 = np.random.normal(0.0, 0.55)\n",
    "    y1 = x1 * 0.1 + 0.3 + np.random.normal(0.0, 0.03)\n",
    "    x_data.append(x1)\n",
    "    y_data.append(y1)"
   ]
  },
  {
   "cell_type": "code",
   "execution_count": 18,
   "metadata": {},
   "outputs": [],
   "source": [
    "g1 = tf.Graph()\n",
    "with g1.as_default():\n",
    "    W = tf.Variable(tf.random_uniform([1],-1.0,1.0))\n",
    "    b = tf.Variable(tf.zeros([1]))\n",
    "    y = W*x_data+b\n",
    "    loss = tf.reduce_mean(tf.square(y-y_data))    # 평균을 return하는데 reduce가 붙는 이유는 ::\n",
    "    # loss <-- cose function. 어떤 x에 대응하는 실제 y값과 우리 W,b값으로 도출된 y값의 오차들의 평균\n",
    "    \n",
    "    #     optimizer = tf.train.GradientDescentOptimizer(0.5)\n",
    "    #     train = optimizer.minimize(loss)\n",
    "    dW, db = tf.gradients( loss, [W,b] )\n",
    "    update_W = tf.assign(W, W - 0.5 *dW)\n",
    "    update_b = tf.assign(b, b - 0.5 *db)\n",
    "    # cost가 최소가 되는 w와 b를 찾아서 계속 내려간다        "
   ]
  },
  {
   "cell_type": "code",
   "execution_count": 24,
   "metadata": {},
   "outputs": [],
   "source": [
    "with tf.Session(graph=g1) as sess:\n",
    "    sess.run(tf.global_variables_initializer())\n",
    "    for step in range(20):\n",
    "        sess.run([update_W,update_b]) # training. 가중치 업데이트 \n",
    "    Wp,bp = sess.run([W,b])\n",
    "    plt.plot(x_data, y_data, 'ro')\n",
    "    plt.plot(x_data, Wp * x_data + bp)"
   ]
  },
  {
   "cell_type": "code",
   "execution_count": null,
   "metadata": {},
   "outputs": [],
   "source": []
  }
 ],
 "metadata": {
  "kernelspec": {
   "display_name": "Python 3",
   "language": "python",
   "name": "python3"
  },
  "language_info": {
   "codemirror_mode": {
    "name": "ipython",
    "version": 3
   },
   "file_extension": ".py",
   "mimetype": "text/x-python",
   "name": "python",
   "nbconvert_exporter": "python",
   "pygments_lexer": "ipython3",
   "version": "3.5.4"
  }
 },
 "nbformat": 4,
 "nbformat_minor": 2
}
